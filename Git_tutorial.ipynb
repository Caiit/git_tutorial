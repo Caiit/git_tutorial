{
 "cells": [
  {
   "cell_type": "markdown",
   "metadata": {},
   "source": [
    "# PAV: Git tutorial"
   ]
  },
  {
   "cell_type": "markdown",
   "metadata": {},
   "source": [
    "## Wat is Git/GitHub?\n",
    "\n",
    "### Git\n",
    "Git is een gratis open source versie beheersysteem. Het wordt vaak gebruikt bij projecten waar meer mensen aan werken om **alles op een plek te hebben.** Hier ff wat anders (specifieker) denk maar kom er nu ff niet op\n",
    "Voor projecten is Git dus een soort van map waarin jij en anderen (tegelijk) aan bestanden kunnen werken. Door middel van het ophalen en pushen van documenten kun je veranderingen zien en maken. De pluspunten van Git over andere bestaande manieren om samen te werken zoals Overleaf, ShareLatex of Dropbox is dat het iedereen de mogelijkheid geeft om aan een bestand te werken, zonder elkaars wijzigingen ongedaan te maken. Git vergelijkt de veranderingen om zo alles samen te voegen zodat alle wijzigingen worden doorgevoerd. Daarnaast houdt het de verschillende versies bij. Zo kan je altijd oudere versie terugvinden en hoef je geen extra tijd te steken in het combineren van bestanden. Ook worden bij Git nieuwe versies lokaal ingediend en pas gesynchroniseerd met de server wanneer de gebruiker dit wil. Hierdoor kunnen er nieuwe versies gemaakt worden, zelfs als er geen internetverbinding beschikbaar is, terwijl voor andere versiebeheersystemen een verbinding nodig is met de server.\n",
    "\n",
    "### GitHub\n",
    "GitHub is een website voor het delen van code die gebruik maakt van Git. GitHub biedt meer dan alleen de command-line van Git. Het is namelijk in een webomgeving, waardoor het er allemaal net iets anders uit ziet. Het is erg handig voor het samenwerken aan projecten aangezien er verschillende gebruikers toegevoegd kunnen worden als collaborateurs van een project. GitHub is in principe openbaar, maar tegen betaling kan het ook privé.\n",
    "\n",
    "Voor deze tutorial maken we gebruik van GitHub, maar er zijn ook andere websites hiervoor zoals *Bitbucket*. Deze is privé, maar heeft een restrictie dat er maar een bepaald aantal mensen aan mee mogen doen."
   ]
  },
  {
   "cell_type": "markdown",
   "metadata": {},
   "source": [
    "## Hoe krijg je Git/GitHub?\n",
    "\n",
    "Voor Git is het van belang dat je als eerst een GitHub account aanmaakt om projecten op een plek op te slaan. Ook kun je de website gebruiken in plaats van je Terminal (Linux & Mac) of Git programma (Windows) om mappen te maken, bestanden te veranderen etc. Wel raden we aan om je bekend te maken met de Terminal/het Git programma, omdat je hierbij aanpassingen, bestanden, mappen etc kunt maken zonder internetverbinding. Deze worden dan eerst lokaal opgeslagen. Er is dan alleen een internetverbinding nodig om dit naar je GitHub te pushen. (en dus beschikbaar te maken voor anderen)"
   ]
  },
  {
   "cell_type": "markdown",
   "metadata": {},
   "source": [
    "### Opdracht 1\n",
    "\n",
    "Ga naar https://github.com/ en maak een account. Probeer de site te begrijpen door de ***GitHub Bootcamp*** te doorlopen. Dit laat je rustig zien hoe de website te gebruiken is en geeft je een goed beeld van wat je kunt verwachten. Je account zul je later in de opdrachten nog nodig hebben. \n",
    " **Die bootcamp doet eigenlijk al opdracht 2, maar in een andere omgeving**"
   ]
  },
  {
   "cell_type": "markdown",
   "metadata": {},
   "source": [
    "### Opdracht 2\n",
    "\n",
    "Nu is het van belang om Git op je laptop te hebben en te configureren. De uitleg hieronder is per besturingssysteem gegeven. \n",
    "\n",
    "#### *Windows: *\n",
    "Ga naar https://git-scm.com/download/win en download de juiste Git. (32 of 64-bit)\n",
    "Om vervolgens Git te openen, moet het programma Git GUI geopend worden. Dit is de grafische interface van Git. Git Bash kan ook geopend worden. Dit heeft dezelfde interface als de terminal. \n",
    "Het beginvenster geeft je de mogelijkheid om in een bestaande map, in een nieuwe map of in een map die je gaat clonen te werken. (ergens vandaan halen) Clone hiervoor het bestand dat we hebben geven. **hoe clone in git**\n",
    "Vervolgens komt de GUI tevoorschijn, waar je een heleboel knoppen (commando's) zult zien. Eerst is het nodig om Git te configuren. Dit doe je door naar edit -> options te gaan. Bij USER_NAME en YOUR_EMAIL moet je je gegevens dan invullen. Het is het handigst om dit bij for global te doen, zodat je dit niet afzonderlijk voor iedere map hoeft te doen.\n",
    "\n",
    "#### *Linux: *\n",
    "Open een terminal en typ het commando: \n",
    "\n",
    "`sudo apt-get install git`\n",
    "\n",
    "Vervolgens is het nodig om Git te configureren met de juiste gegevens. Hiervoor typ je in je terminal de volgende twee commando's: \n",
    "\n",
    "`git config --global user.name \"USER_NAME\" `\n",
    "\n",
    "`git config --global user.email \"YOUR_EMAIL\" `\n",
    "\n",
    "De term 'USER_NAME' is de gebruikersnaam die je wilt gebruiken en waar de bestanden op staan en 'YOUR_EMAIL' is je email.\n",
    "\n",
    "##### *Mac: *"
   ]
  },
  {
   "cell_type": "markdown",
   "metadata": {},
   "source": [
    "## Hoe werkt het?\n",
    "### Ubuntu\n",
    "#### Een lokale repository maken\n",
    "Voor een bestaande map \n",
    "\n",
    "cd naar de map toe\n",
    "\n",
    "`git init`\n",
    "\n",
    "Voor een nieuwe map\n",
    "\n",
    "`git init *repository_name*`\n",
    "\n",
    "#### Clone\n",
    "Voor het clonen van een bestaande repository\n",
    "\n",
    "`git clone username@host:/path/to/repository`\n",
    "\n",
    "#### Pull\n",
    "Aanpassingen van de repository lokaal ook aanpassen\n",
    "\n",
    "`git pull origin master`\n",
    "\n",
    "#### Bestanden toevoegen aan de Staging Area\n",
    "`git add *file_name*`\n",
    "\n",
    "of bestanden met dezelfde extentie\n",
    "\n",
    "`git add '*.txt' `\n",
    "\n",
    "of alle bestanden in de map\n",
    "\n",
    "`git add *`\n",
    "\n",
    "#### Van Staging Area naar repository\n",
    "`git commit -m \"some_message\"`\n",
    "\n",
    "*some_message* is een beschrijving van wat er veranderd is\n",
    "\n",
    "#### Push naar de server\n",
    "`git push origin master`\n",
    "\n",
    "#### Status \n",
    "`git status`\n",
    "\n",
    "#### Log\n",
    "`git log`"
   ]
  },
  {
   "cell_type": "markdown",
   "metadata": {},
   "source": [
    "### Opdracht 3\n",
    "\n",
    "#### Windows\n",
    "Hier zou het bestand gecloned moeten worden. Dit moet voor Windows voor het configureren, dus dit is al in de vorige opdracht gedaan. \n",
    "\n",
    "#### Linux\n",
    "Maak een map aan waar je onze git wil clonen en ga naar deze map in de terminal. Clone vervolgens met het volgende commando onze git.\n",
    "\n",
    "`git clone https://github.com/Caiit/git_tutorial.git `\n",
    "\n",
    "\n",
    "** Hiervoor moeten we nog even een goede git opzetten die ze dan kunnen clonen en dan eventueel naar hun eigen github account kunnen zetten. Dan kunnen ze hierin zien wat erin staan en misschien kunnen we dan later iets veranderen hierin, zodat ze zien hoe pull werkt in action tijdens het werkcollege ding. Daarna kunnen we ze zelf een opdracht geven waarin ze in groepjes van 4 samen zo'n ding maken en dan dingetjes gaan kapot maken met versie beheer enzo. Klinkt dit een beetje goed? ** \n",
    "\n",
    "** Ik dacht ook om nog een sectie te maken bovenin met gevaren van het niet gebruiken van Git, zodat het intressanter lijkt, maar dan kan ik dat morgen wel doen. **\n"
   ]
  },
  {
   "cell_type": "markdown",
   "metadata": {},
   "source": [
    "## De valkuilen van Git en de gebruikers, hoe kunnen we die oplossen?\n",
    "\n",
    "Ondanks dat Git ontzettend handig is, blijven hier ook valkuilen inzitten, die meestal makkelijk op te lossen zijn. \n",
    "\n",
    "\n",
    "### Versie beheer\n",
    "\n",
    "Bij groepsprojecten komt het vaak voor dat iedereen afspraken maakt over de verdeling van het werk. Maar wat als een van je groepsleden een fout maakt en het al heeft opgeslagen? Met Latex bijvoorbeeld zul je nooit meer het bestand terug kunnen vinden als Ctrl-Z niet meer werkt. Hetzelfde geldt als er een nieuw word/php/html bestand wordt geupload. Bij kleine bestanden kan het waarschijnlijk nog opnieuw worden geschreven, maar bij grote bestanden/projecten zal dit een nachtmerrie zijn. Hiervoor heeft Git een optimale oplossing: Versie beheer. Git geeft je namelijk de mogelijkheid om overschreven bestanden terug te vinden. Hierdoor kun je altijd 100% zeker zijn over het feit dat je niet zomaar snel iets kwijtraakt. Om jullie hierin wegwijs te maken, gaan we jullie leren hoe je deze versie beheer kunt bekijken en gebruiken.\n",
    "\n",
    "### Opdracht\n",
    "**hier moeten we nog even kijken hoe de versiebeheer in elkaar zit en hoe ze dat kunnen achterhalen. Dat kan ik anders eventueel morgen doen**\n",
    "\n",
    "### Dezelfde aangepaste bestanden\n"
   ]
  },
  {
   "cell_type": "markdown",
   "metadata": {},
   "source": [
    "## Huiswerk\n",
    "\n",
    "Doe de tutorial van GitHub zelf. Hier worden de meeste van de bestaande commando's nog een keer genoemd. Ook zie je het effect van deze commando's op voorbeelden. Niet alle commando's uit deze tutorial worden genoemd in de tutorial van GitHub. Het is dus belangrijk om dit als **aanvulling** te doen en niet als vervanging van de tutorial. \n",
    "\n",
    "https://try.github.io/levels/1/challenges/1 "
   ]
  },
  {
   "cell_type": "markdown",
   "metadata": {},
   "source": [
    "## Handige links\n",
    "\n",
    "Basic git commands: https://confluence.atlassian.com/stash/basic-git-commands-278071958.html"
   ]
  }
 ],
 "metadata": {
  "kernelspec": {
   "display_name": "Python 2",
   "language": "python",
   "name": "python2"
  },
  "language_info": {
   "codemirror_mode": {
    "name": "ipython",
    "version": 2
   },
   "file_extension": ".py",
   "mimetype": "text/x-python",
   "name": "python",
   "nbconvert_exporter": "python",
   "pygments_lexer": "ipython2",
   "version": "2.7.6"
  }
 },
 "nbformat": 4,
 "nbformat_minor": 0
}
