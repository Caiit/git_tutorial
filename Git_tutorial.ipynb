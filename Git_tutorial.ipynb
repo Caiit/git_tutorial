{
 "cells": [
  {
   "cell_type": "markdown",
   "metadata": {},
   "source": [
    "# PAV: Git tutorial"
   ]
  },
  {
   "cell_type": "markdown",
   "metadata": {},
   "source": [
    "## Wat is Git/GitHub?\n",
    "\n",
    "### Git\n",
    "** Git is niet alleen voor het samenwerken, maar juist ook voor jezelf om een versie control te hebben **\n",
    "Git is een soort van map waarin jij en anderen (tegelijk) aan bestanden kunnen werken. Door middel van het ophalen en pushen van documenten kun je veranderingen zien en maken. De pluspunten van Git over andere bestaande manieren om samen te werken zoals Overleaf, ShareLatex en Dropbox is dat het iedereen mogelijkheid geeft om aan een bestand te werken, zonder elkaars wijzigingen ongedaan te maken. Git vergelijkt de veranderingen om zo alles samen te voegen zodat alle wijzigingen worden doorgevoerd. Daarnaast houdt het de verschillende versies bij. Zo zal er geen informatie verloren gaan en hoef je geen extra tijd te steken in het combineren van bestanden. Ook worden bij Git nieuwe versies ingediend in een lokale kopie van de opslagplaats wanneer een deelnemer aanpassingen heeft gemaakt. Op elk gewenst moment kan deze lokale opslagplaats gesynchroniseerd worden met de server. Het voordeel hiervan is dat nieuwe revisies ingediend kunnen worden, zelfs als er geen internetverbinding beschikbaar is, terwijl voor centrale versiebeheersystemen altijd een verbinding nodig is met de server.\n",
    "\n",
    "### GitHub\n",
    "GitHub is een website voor het delen van code die gebruik maakt van Git. GitHub biedt meer dan alleen de command-line van Git. Het is namelijk in een webomgeving, waardoor het er allemaal net iets anders uit ziet.** Web-based graphical interface and desktop as well as mobile integration. ** Daarnaast heeft GitHub ** access control and several collaboration features such as bug tracking, feature requests, task management, and wikis for every project. ** \n",
    "GitHub is in principe openbaar, maar tegen betaling kan het ook privé.\n",
    "\n",
    "Voor deze tutorial maken we gebruik van GitHub, maar er zijn ook andere websites hiervoor zoals *Bitbucket*. Deze is privé, maar heeft een restrictie dat er maar een bepaald aantal mensen aan mee mogen doen."
   ]
  },
  {
   "cell_type": "markdown",
   "metadata": {},
   "source": [
    "## Hoe krijg je Git/GitHub?\n",
    "\n",
    "Voor Git is het van belang dat je als eerst een GitHub account aanmaakt om projecten op een plek op te slaan. **Hoeft niet per se kan ook git zonder github of wat dan ook gebruiken, alleen voor projecten is het handig ** Ook kun je de website gebruiken in plaats van je Terminal (Linux & Mac) of Git programma (Windows) om mappen te maken, bestanden te veranderen etc. Wel raden we aan om je bekend te maken met de Terminal/Git programma, omdat je hierbij aanpassingen, bestanden, **mappen etc kunt maken zonder Internet die je kunt opslaan. Dan is er alleen Internet nodig om dit naar je GitHub te pushen. (en dus beschikbaar te maken voor anderen) ** loopt niet echt lekker, misschien ook pas later over terminal en website enz beginnen, want nu komt het uit het niets.\n",
    "\n",
    "### Opdracht 1\n",
    "\n",
    "Ga naar https://github.com/ en maak een account. Probeer de site te begrijpen door de ***GitHub Bootcamp*** te doorlopen. Dit laat je rustig zien hoe de website te gebruiken is en geeft je een goed beeld van wat je kunt verwachten. Je account zul je later in de opdrachten nog nodig hebben. \n",
    " **Die bootcamp doet eigenlijk al opdracht 2**\n",
    " \n",
    "### Opdracht 2\n",
    "\n",
    "Nu is het van belang om Git op je laptop te hebben en te configureren. De uitleg hieronder is per besturingssysteem gegeven. \n",
    "\n",
    "#### *Windows: *\n",
    "Ga naar https://git-scm.com/download/win en download de juiste Git. (32 of 64-bit)\n",
    "** ik zet het hier nog bij, maar dan doe ik dat van Windows, zodat ik precies zie wat ik doe :)**\n",
    "\n",
    "#### *Linux: *\n",
    "Open een terminal en typ het commando: \n",
    "\n",
    "`sudo apt-get install git`\n",
    "\n",
    "Vervolgens is het nodig om Git te configureren met de juiste gegevens. Hiervoor typ je in je terminal de volgende twee commando's: \n",
    "\n",
    "`git config --global user.name \"USER_NAME\" `\n",
    "\n",
    "`git config --global user.email \"YOUR_EMAIL\" `\n",
    "\n",
    "De term 'USER_NAME' is de gebruikersnaam die je wilt gebruiken en waar de bestanden op staan en 'YOUR_EMAIL' is je email.\n",
    "\n",
    "##### *Mac: *\n",
    "\n",
    "### Opdracht 3\n",
    "\n",
    "Maak een map aan waar je onze git wil clonen en ga naar deze map in de terminal. Clone vervolgens met het volgende commando onze git.\n",
    "\n",
    "`git clone https://github.com/Caiit/git_tutorial.git\n",
    "\n",
    "\n",
    "** Hiervoor moeten we nog even een goede git opzetten die ze dan kunnen clonen en dan eventueel naar hun eigen github account kunnen neerzetten. Dan kunnen ze hierin zien wat erin staan en misschien kunnen we dan later iets veranderen hierin, zodat ze zien hoe pull werkt in action tijdens het werkcollege ding. Daarna kunnen we ze zelf een opdracht geven waarin ze in groepjes van 4 samen zo'n ding maken en dan dingetjes gaan kapot maken met versie beheer enzo. Klinkt dit een beetje goed? ** \n",
    "\n",
    "** Ik dacht ook om nog een sectie te maken bovenin met gevaren van het niet gebruiken van Git, zodat het intressanter lijkt, maar dan kan ik dat morgen wel doen. **\n"
   ]
  },
  {
   "cell_type": "markdown",
   "metadata": {},
   "source": [
    "## Huiswerk\n",
    "\n",
    "Doe de tutorial van GitHub zelf. Hier worden de meeste van de bestaande commando's nog een keer genoemd. Ook zie je het effect van deze commando's op voorbeelden. Niet alle commando's uit deze tutorial worden genoemd in de tutorial van GitHub. Het is dus belangrijk om dit als **aanvulling** te doen en niet als vervanging van de tutorial. \n",
    "\n",
    "https://try.github.io/levels/1/challenges/1 "
   ]
  }
 ],
 "metadata": {
  "kernelspec": {
   "display_name": "Python 2",
   "language": "python",
   "name": "python2"
  },
  "language_info": {
   "codemirror_mode": {
    "name": "ipython",
    "version": 2
   },
   "file_extension": ".py",
   "mimetype": "text/x-python",
   "name": "python",
   "nbconvert_exporter": "python",
   "pygments_lexer": "ipython2",
   "version": "2.7.6"
  }
 },
 "nbformat": 4,
 "nbformat_minor": 0
}
