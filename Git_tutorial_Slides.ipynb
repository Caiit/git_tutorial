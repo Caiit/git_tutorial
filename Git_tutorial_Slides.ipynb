{
 "cells": [
  {
   "cell_type": "markdown",
   "metadata": {
    "slideshow": {
     "slide_type": "slide"
    }
   },
   "source": [
    "# PAV: Git tutorial"
   ]
  },
  {
   "cell_type": "markdown",
   "metadata": {
    "slideshow": {
     "slide_type": "slide"
    }
   },
   "source": [
    "# Wat is Git?\n",
    "\n",
    "### Git\n",
    " \n",
    " \n",
    "\n",
    "\n",
    "Git is een gratis open source versie beheersysteem. Het wordt vaak gebruikt bij projecten waar meer mensen aan werken om **alles op &eacute;&eacute;n plek te hebben.** \n",
    "\n",
    "Voor projecten is Git dus een soort van map waarin jij en anderen (tegelijk) aan bestanden kunnen werken. Door middel van het ophalen en pushen van documenten kun je veranderingen zien en maken. "
   ]
  },
  {
   "cell_type": "markdown",
   "metadata": {
    "slideshow": {
     "slide_type": "slide"
    }
   },
   "source": [
    "# Wat is GitHub?\n",
    "\n",
    "* GitHub is een website voor het delen van code die gebruik maakt van Git. \n",
    "* GitHub biedt meer dan alleen de command-line van Git. \n",
    "* Het is namelijk in een webomgeving, waardoor het er allemaal net iets anders uit ziet. \n",
    "* Het is erg handig voor het samenwerken aan projecten aangezien er verschillende gebruikers toegevoegd kunnen worden als collaborateurs van een project. GitHub is in principe openbaar, maar tegen betaling kan het ook privé. \n",
    "* Met GitHub kun je dus je bestanden bewaren op een plek, GitHub, waar ook eventueel anderen het kunnen verkrijgen en/of veranderen mits ze rechten hebben. \n",
    "\n",
    ">Voor deze tutorial maken we gebruik van GitHub, maar er zijn ook andere websites hiervoor zoals *Bitbucket*. Deze is privé, maar heeft een restrictie dat er maar een bepaald aantal mensen aan mee mogen doen."
   ]
  },
  {
   "cell_type": "markdown",
   "metadata": {
    "slideshow": {
     "slide_type": "slide"
    }
   },
   "source": [
    "# Andere voordelen van GitHub\n",
    "\n",
    "1. Wiki\n",
    "2. Issue tracker\n",
    "3. Een perfecte copie van je werk is opgeslagen in de cloud. "
   ]
  },
  {
   "cell_type": "markdown",
   "metadata": {
    "slideshow": {
     "slide_type": "slide"
    }
   },
   "source": [
    "## Waarom zou je Git gebruiken?\n",
    "\n",
    "* De pluspunten van Git over andere bestaande manieren om samen te werken zoals Google Docs, Overleaf, ShareLatex of Dropbox is dat het iedereen de mogelijkheid geeft om aan een bestand te werken, zonder elkaars wijzigingen ongedaan te maken. \n",
    "* Git vergelijkt de veranderingen om zo alles samen te voegen zodat alle wijzigingen worden doorgevoerd. \n",
    "* Daarnaast houdt het de verschillende versies bij. \n",
    "* Zo kan je altijd oudere versie terugvinden en hoef je _meestal_ geen extra tijd te steken in het combineren van bestanden. \n",
    "* Ook worden bij Git nieuwe versies lokaal ingediend en pas gesynchroniseerd met de server wanneer de gebruiker dit wil. \n",
    "* Hierdoor kunnen er nieuwe versies gemaakt worden, zelfs als er geen internetverbinding beschikbaar is, terwijl voor andere versiebeheersystemen een verbinding nodig is met de server."
   ]
  },
  {
   "cell_type": "markdown",
   "metadata": {
    "slideshow": {
     "slide_type": "slide"
    }
   },
   "source": [
    "### Maar gaat alles goed via Git? \n",
    "\n",
    "* Zoals bij ieder ander programma kan er altijd iets misgaan. \n",
    "* Zo kunnen er   fouten optreden als twee bestanden _gemerged_ moeten worden. \n",
    "* Dit is het geval als je tegelijk met een bestand werkt en vervolgens beide aanbiedt aan Git. \n",
    "* Dit gaat meestal goed, _git doet dan een automatische merge_\n",
    "    * als _git_ er niet uitkomt (je hebt aan hetzelfde stukje tekst zitten werken),\n",
    "    * is er een handige editor waarin je de verschillen ziet en waarin je kan beslissen wat de uiteindelijke versie wordt.\n",
    "* Maar hoe los je dit op? Dit gaan we aan het einde van de tutorial behandelen. "
   ]
  },
  {
   "cell_type": "markdown",
   "metadata": {
    "slideshow": {
     "slide_type": "slide"
    }
   },
   "source": [
    "## Hoe krijg je Git/GitHub?\n",
    "\n",
    "Voor Git is het van belang dat je als eerst een GitHub account aanmaakt om projecten op een plek op te slaan. Ook kun je de website gebruiken in plaats van je Terminal (Linux & Mac) of Git programma (Windows) om mappen te maken, bestanden te veranderen etc. Wel raden we aan om je bekend te maken met de Terminal/het Git programma, omdat je hierbij aanpassingen, bestanden, mappen etc kunt maken zonder internetverbinding. Deze worden dan eerst lokaal opgeslagen. Er is dan alleen een internetverbinding nodig om dit naar je GitHub te pushen. (en dus beschikbaar te maken voor anderen)"
   ]
  },
  {
   "cell_type": "markdown",
   "metadata": {
    "slideshow": {
     "slide_type": "slide"
    }
   },
   "source": [
    "# Opdracht 1\n",
    "\n",
    "1. Ga naar https://github.com/ en maak een account.\n",
    "2. Probeer de site te begrijpen door de eerste twee stappen van de ***GitHub Bootcamp*** te doorlopen (_set up Git_ en _Create a repository_). \n",
    "    * Dit laat je rustig zien hoe de website te gebruiken is en geeft je een goed beeld van wat je kunt verwachten, aangezien de commando's die je tegen zult komen in de volgende opdrachten zult herkennen. \n",
    "    * Je account zul je later in de opdrachten nog nodig hebben om je bestanden te pushen naar een server. (je Github account) "
   ]
  },
  {
   "cell_type": "markdown",
   "metadata": {
    "slideshow": {
     "slide_type": "slide"
    }
   },
   "source": [
    "### Opdracht 2\n",
    "\n",
    "Nu is het van belang om Git op je laptop te hebben en te configureren. De uitleg hieronder is per besturingssysteem gegeven. \n",
    "\n",
    "#### *Windows: *\n",
    "Ga naar <http://git-scm.com/download/win> en download het juiste programma voor je computer. (32 of 64-bit)\n",
    "Om vervolgens Git te openen, moet het programma Git Bash geopend worden, die gebruik maakt van dezelfde interface als de terminal van Mac & Linux. Git GUI kan ook geopend worden. Dit is de grafische interface van Git.\n",
    "\n",
    "Voor het gemak zullen we gebruik maken van de Git Bash voor Windows, gezien dit de meest gebruikte manier is doordat het op dezelfde manier werkt als Git op andere besturingssystemen. "
   ]
  },
  {
   "cell_type": "markdown",
   "metadata": {
    "slideshow": {
     "slide_type": "slide"
    }
   },
   "source": [
    "#### *Linux & Mac: *\n",
    "\n",
    "* **Vaak is git al geinstalleerd.** Test dit door `$ git --version` in een terminal uit te voeren.\n",
    "* Zo niet, volg dan de stappen hieronder:\n",
    "\n",
    "\n",
    "#### Mac\n",
    "\n",
    "* Volg <https://git-scm.com/book/en/v2/Getting-Started-Installing-Git#Installing-on-Mac>\n",
    "\n",
    "#### Linux\n",
    "\n",
    "Open een terminal en typ het commando: \n",
    "\n",
    "`sudo apt-get install git`\n",
    "\n",
    "\n",
    "#### Daarna\n",
    "Vervolgens is het nodig om Git te configureren met de juiste gegevens. Hiervoor typ je in je terminal de volgende twee commando's: \n",
    "\n",
    "`git config --global user.name \"USER_NAME\" `\n",
    "\n",
    "`git config --global user.email \"YOUR_EMAIL\" `\n",
    "\n",
    "De term 'USER_NAME' is de gebruikersnaam die je wilt gebruiken en waar de bestanden op staan en 'YOUR_EMAIL' is je email."
   ]
  },
  {
   "cell_type": "markdown",
   "metadata": {
    "slideshow": {
     "slide_type": "slide"
    }
   },
   "source": [
    "## Hoe werkt het?\n",
    "Hieronder zullen we de basiscommando's laten zien die je kunt gebruiken in Git. Deze commando's zul je later nodig hebben voor de volgende opdracht. "
   ]
  },
  {
   "cell_type": "markdown",
   "metadata": {
    "slideshow": {
     "slide_type": "slide"
    }
   },
   "source": [
    "# Ubuntu/Linux & Mac\n",
    "#### Een lokale repository maken\n",
    "Voor een bestaande map \n",
    "\n",
    "cd naar de map toe\n",
    "\n",
    "`git init`\n",
    "\n",
    "Voor een nieuwe map\n",
    "\n",
    "`git init *repository_name*`\n",
    "\n",
    "#### Clone\n",
    "Voor het clonen van een bestaande repository\n",
    "\n",
    "`git clone username@host:/path/to/repository`\n",
    "\n",
    "Als je de map een andere naam wil geven:\n",
    "\n",
    "`git clone username@host:/path/to/repository newName`\n",
    "\n",
    "#### Pull\n",
    "Aanpassingen van de repository lokaal ook aanpassen\n",
    "\n",
    "`git pull origin master`\n",
    "\n",
    "#### Bestanden toevoegen aan de Staging Area\n",
    "`git add *file_name*`\n",
    "\n",
    "of bestanden met dezelfde extentie\n",
    "\n",
    "`git add '*.txt' `\n",
    "\n",
    "of alle bestanden in de map\n",
    "\n",
    "`git add *`\n",
    "\n",
    "#### Van Staging Area naar repository\n",
    "`git commit -m \"some_message\"`\n",
    "\n",
    "*some_message* is een beschrijving van wat er veranderd is\n",
    "\n",
    "#### Push naar de server\n",
    "`git push origin master`\n",
    "\n",
    "#### Status \n",
    "`git status`\n",
    "\n",
    "#### Log\n",
    "`git log`\n",
    "\n",
    "# Windows\n",
    "\n",
    "De Git Bash maakt gebruik van dezelfde commando's als de eerdergenoemde besturingssystemen. Zie dus de commando's hierboven."
   ]
  },
  {
   "cell_type": "markdown",
   "metadata": {
    "slideshow": {
     "slide_type": "slide"
    }
   },
   "source": [
    "### Opdracht 3\n",
    "\n",
    "#### Linux, Mac & Windows\n",
    "Maak een map aan waar je onze git wil clonen en ga naar deze map in de terminal. Clone vervolgens met het volgende commando onze git.\n",
    "\n",
    "`git clone https://github.com/Caiit/git_tutorial.git `\n",
    "\n",
    "#### Hoe verder?\n",
    "\n",
    "Gezien deze clone ervoor zorgt dat je bij het pushen naar onze server pusht, moet je zorgen dat je dus naar je eigen server pusht. Dat kan op de volgende manier:\n",
    "\n",
    "* ga in je terminal naar je map waar je de git hebt gecloned. Dit kan door: `cd Map`\n",
    "* Vervolgens push je dit specifiek naar jouw account. Dit kan door: `git push https://github.com/userName/Mapname:master` Hiermee kies je specifiek om te pushen naar je eigen server, waardoor je vanaf daar weer verder kunt werken. Let wel op, hiervoor moet je dus wel een bestaande map hebben gemaakt op Github, zodat je het daar kunt neerzetten."
   ]
  },
  {
   "cell_type": "markdown",
   "metadata": {
    "slideshow": {
     "slide_type": "slide"
    }
   },
   "source": [
    "### Opdracht 4\n",
    "Om de commando's te begrijpen, kun je ze het best gebruiken. Het lijstje dat eerder is gegeven is een fijne cheatsheet, waar je altijd op terug kunt kijken om te zien hoe je bepaalde dingen doet. \n",
    "\n",
    "Ga de volgende punten af om bekend te worden met de commando's:\n",
    "* Verander informatie in een of meerdere bestanden en sla dit op. \n",
    "* Bekijk de status van je huidige situatie.\n",
    "* Stop de aangepaste bestanden in de Staging area.\n",
    "* Bekijk wederom de status van je huidige situatie. Wat is er veranderd?\n",
    "* Zorg ervoor dat je aangepaste bestanden nu te vinden zijn in je repository. *Het is belangrijk om te kiezen voor berichten die je later eventueel terug zou kunnen lezen om een specifieke versie te vinden.*\n",
    "* Zorg er nu voor dat je je (aangepaste) bestanden naar een server pusht. \n",
    "* Probeer deze stappen met meerdere, verschillende soorten, bestanden. *Zo zul je zien dat het formaat niks uitmaakt.*\n",
    "* Zorg ervoor dat je je push geschiedenis kunt zien. Wat voor soort informatie zie je? \n",
    "*Hint: Als je graag wilt zien hoe dit gedaan moet worden, staat er op de volgende slide hoe wij dit hebben gedaan. Dan kun je dit altijd nadoen. *"
   ]
  },
  {
   "cell_type": "markdown",
   "metadata": {
    "slideshow": {
     "slide_type": "slide"
    }
   },
   "source": [
    "#### ls is een commando waarmee je de inhoud van een map kunt bekijken.\n",
    "#### De eerste verandering is dat je bestand nu gecommit kan worden, wat eerst niet kon. \n",
    "#### De herhaling kan op exact dezelfde manier gedaan worden door het onderstaande te herhalen.\n",
    "#### De push geschiedenis, te zien door de commando git log,  laat je de persoon zien die gepusht heeft, wanneer het is gedaan en wat de message hierbij was.\n",
    "#### Gedit is een text-editor die je met een bestandsnaam erachter vanuit je terminal kunt openen. Er opent een nieuw venster van je programma waarin je veranderingen kunt maken + opslaan.\n",
    "\n",
    "```bash\n",
    "houda@houda-IdeaPad-U430-Touch:~$ cd git_tutorial/\n",
    "houda@houda-IdeaPad-U430-Touch:~/git_tutorial$ ls\n",
    "example.html   Git_tutorial               logout.php\n",
    "example.html~  Git_tutorial.ipynb         main.tex\n",
    "examp.xml      Git_tutorial_Slides.ipynb  Rapport_WEBDB.pdf\n",
    "examp.xml~     Git_Windows_GUI.ipynb      README.md\n",
    "forum904.sql   logosite.png               Stappenplan_Les.ipynb\n",
    "houda@houda-IdeaPad-U430-Touch:~/git_tutorial$ gedit logout.php\n",
    "houda@houda-IdeaPad-U430-Touch:~/git_tutorial$ git status\n",
    "On branch master\n",
    "Your branch is up-to-date with 'origin/master'.\n",
    "\n",
    "Changes not staged for commit:\n",
    "  (use \"git add <file>...\" to update what will be committed)\n",
    "  (use \"git checkout -- <file>...\" to discard changes in working directory)\n",
    "\n",
    "\tmodified:   Git_tutorial_Slides.ipynb\n",
    "\tmodified:   logout.php\n",
    "\n",
    "Untracked files:\n",
    "  (use \"git add <file>...\" to include in what will be committed)\n",
    "\n",
    "\t.forum.sql.swp\n",
    "\t.ipynb_checkpoints/Git_Windows_GUI-checkpoint.ipynb\n",
    "\t.ipynb_checkpoints/Git_tutorial_Slides-checkpoint.ipynb\n",
    "\tlogout.php~\n",
    "\n",
    "no changes added to commit (use \"git add\" and/or \"git commit -a\")\n",
    "houda@houda-IdeaPad-U430-Touch:~/git_tutorial$ git add logout.php\n",
    "houda@houda-IdeaPad-U430-Touch:~/git_tutorial$ git status\n",
    "On branch master\n",
    "Your branch is up-to-date with 'origin/master'.\n",
    "\n",
    "Changes to be committed:\n",
    "  (use \"git reset HEAD <file>...\" to unstage)\n",
    "\n",
    "\tmodified:   logout.php\n",
    "\n",
    "Changes not staged for commit:\n",
    "  (use \"git add <file>...\" to update what will be committed)\n",
    "  (use \"git checkout -- <file>...\" to discard changes in working directory)\n",
    "\n",
    "\tmodified:   Git_tutorial_Slides.ipynb\n",
    "\n",
    "Untracked files:\n",
    "  (use \"git add <file>...\" to include in what will be committed)\n",
    "\n",
    "\t.forum.sql.swp\n",
    "\t.ipynb_checkpoints/Git_Windows_GUI-checkpoint.ipynb\n",
    "\t.ipynb_checkpoints/Git_tutorial_Slides-checkpoint.ipynb\n",
    "\tlogout.php~\n",
    "\n",
    "houda@houda-IdeaPad-U430-Touch:~/git_tutorial$ git commit -m 'Kleine aanpassing in de logout file als test'\n",
    "[master a9459ed] Kleine aanpassing in de logout file als test\n",
    " 1 file changed, 2 insertions(+), 1 deletion(-)\n",
    "houda@houda-IdeaPad-U430-Touch:~/git_tutorial$ git push \n",
    "warning: push.default is unset; its implicit value is changing in\n",
    "Git 2.0 from 'matching' to 'simple'. To squelch this message\n",
    "and maintain the current behavior after the default changes, use:\n",
    "\n",
    "  git config --global push.default matching\n",
    "\n",
    "To squelch this message and adopt the new behavior now, use:\n",
    "\n",
    "  git config --global push.default simple\n",
    "\n",
    "When push.default is set to 'matching', git will push local branches\n",
    "to the remote branches that already exist with the same name.\n",
    "\n",
    "In Git 2.0, Git will default to the more conservative 'simple'\n",
    "behavior, which only pushes the current branch to the corresponding\n",
    "remote branch that 'git pull' uses to update the current branch.\n",
    "\n",
    "See 'git help config' and search for 'push.default' for further information.\n",
    "(the 'simple' mode was introduced in Git 1.7.11. Use the similar mode\n",
    "'current' instead of 'simple' if you sometimes use older versions of Git)\n",
    "\n",
    "Username for 'https://github.com': houda96\n",
    "Password for 'https://houda96@github.com': \n",
    "Counting objects: 6, done.\n",
    "Delta compression using up to 4 threads.\n",
    "Compressing objects: 100% (3/3), done.\n",
    "Writing objects: 100% (3/3), 353 bytes | 0 bytes/s, done.\n",
    "Total 3 (delta 2), reused 0 (delta 0)\n",
    "To https://github.com/Caiit/git_tutorial.git\n",
    "   4f605fc..a9459ed  master -> master\n",
    "houda@houda-IdeaPad-U430-Touch:~/git_tutorial$ git log \n",
    "commit a9459ed4c94fd50a1f68f676e33938eef4cd63aa\n",
    "Author: Houda <houda1996@hotmail.com>\n",
    "Date:   Sat Nov 21 16:46:25 2015 +0100\n",
    "\n",
    "    Kleine aanpassing in de logout file als test\n",
    "\n",
    "commit 4f605fca436be53cb79c0ce56876521e068efaa7\n",
    "Author: Houda <houda1996@hotmail.com>\n",
    "Date:   Fri Nov 20 23:33:24 2015 +0100\n",
    "\n",
    "    slide antwoorden voor de Windows GUI in andere file gezet voor als iemand he\n",
    "\n",
    "commit 20a63e2e879cd45821e10870625bcd67627ca6fc\n",
    "Author: Houda <houda1996@hotmail.com>\n",
    "Date:   Fri Nov 20 23:32:19 2015 +0100\n",
    "\n",
    "    Antwoorden toegevoegd en kleine aanpassingen gemaakt, nog niet helemaal klaa\n",
    "\n",
    "commit 8e6e7cc31295999c9f40b62a70b81d90fc140e6a\n",
    "Author: maartenmarx <maartenmarx@uva.nl>\n",
    "Date:   Thu Nov 19 09:59:37 2015 +0100\n",
    "\n",
    "    stappenplan afgemaakt\n",
    "\n",
    "\n",
    "houda@houda-IdeaPad-U430-Touch:~/git_tutorial$ \n",
    "\n",
    "````"
   ]
  },
  {
   "cell_type": "markdown",
   "metadata": {
    "slideshow": {
     "slide_type": "slide"
    }
   },
   "source": [
    "## Hoe werkt Versie beheer?\n",
    "\n",
    "### Linux,Mac & Windows:\n",
    "Wil je graag een oudere versie zien van een bestand? Dat kan met deze commando:\n",
    "`git show HEAD~number:PathToFile/FileName` \n",
    "Waarbij `number` laat zien welke versie je ophaalt. 0 is het bestand waarmee je begon. Voor een specifieke versie kun je het best je log bekijken: ` git log` om specifiek te weten welke je wilt ophalen, en ook om te weten hoeveelste commit (nummer) het is. `PathToFile/FileName` is het pad naar je bestand: `FileName`. \n",
    "\n",
    "Als je de datum weet van je oudere versie en als het die dag een keer is veranderd, kun je dit ook opzoeken met een datum: `git show HEAD@{data}:PathToFile/FileName` Dit heeft als enige verandering dat je bij data de datum van je versie neerzet in de vorm van jaar-maand-dag, zodat dat specifieke bestand wordt opgehaald. \n",
    "\n",
    "Hiermee kun je dan zien hoe het eruit zag en eventueel kopieren naar een ander bestand als je dit toch nog wilt gebruiken. \n",
    "\n",
    "**Wanneer je graag terug wil naar een eerdere versie van je bestand kan je gebruik maken van de zogenoemde checkouts. Dit kan door ```git checkout <commit> <file>```, waar < commit> het nummer van de commit is en < file> de file die je wilt vervangen voor een oudere versie. **\n",
    "\n",
    "\n",
    "## Hoe werkt het met dezelfde aangepaste bestanden?\n",
    "Als er verschillende componenten in het bestand zijn veranderd, komt er geen conflict voor. Dit wordt dus zonder problemen automatisch door git zelf gedaan. Wanneer er veranderingen zijn in hetzelfde deel zal git een conflict geven, een probleem. Dit kan als volgt opgelost worden: \n",
    "\n",
    "### Linux, Mac & Windows:\n",
    "Als je bestanden samenvoegt en er verschijnen veel rode zinnen/errors, dan is er een conflict opgetreden. Dit is dan te zien in je bestand.\n",
    "Dit zal er ongeveer als volgt uitzien in het bestand als ze zijn samengevoegd:\n",
    "\n",
    "```\n",
    "the number of planets are\n",
    "<<<<<<< HEAD\n",
    "\n",
    "nine\n",
    "\n",
    "`==========`\n",
    "\n",
    "eight\n",
    "\n",
    "`>>>>>>>` branch-a\n",
    "```\n",
    "\n",
    "Dit moet je dan handmatig oplossen door dit deel aan te passen naar wat jij en de teamgenoten graag willen zien. Dit kan bijvoorbeeld geen nine of eight zijn, maar misschien ook een mix hiervan. Dit is dus wel handmatig op te lossen, maar moet wel gedaan worden op een manier dat iedereen hier tevreden mee is. \n",
    "\n",
    "**Voor de mensen die geïnteresseerd zijn in het probleem, hier heeft Git ook nog verdere uitleg etc. staan: https://help.github.com/articles/resolving-a-merge-conflict-from-the-command-line/**"
   ]
  },
  {
   "cell_type": "markdown",
   "metadata": {
    "slideshow": {
     "slide_type": "slide"
    }
   },
   "source": [
    "## De valkuilen van Git en de gebruikers, hoe kunnen we die oplossen?\n",
    "\n",
    "Ondanks dat Git ontzettend handig is, blijven hier ook valkuilen inzitten, die meestal makkelijk op te lossen zijn. \n",
    "\n",
    "\n",
    "### Versie beheer\n",
    "\n",
    "Bij groepsprojecten komt het vaak voor dat iedereen afspraken maakt over de verdeling van het werk. Maar wat als een van je groepsleden een fout maakt en het al heeft opgeslagen? Met Latex bijvoorbeeld zul je nooit meer het bestand terug kunnen vinden als Ctrl-Z niet meer werkt. Hetzelfde geldt als er een nieuw word/php/html bestand wordt geupload. Bij kleine bestanden kan het waarschijnlijk nog opnieuw worden geschreven, maar bij grote bestanden/projecten zal dit een nachtmerrie zijn. Hiervoor heeft Git een optimale oplossing: Versie beheer. Git geeft je namelijk de mogelijkheid om overschreven bestanden terug te vinden. Hierdoor kun je altijd 100% zeker zijn over het feit dat je niet zomaar snel iets kwijtraakt. Om jullie hierin wegwijs te maken, gaan we jullie leren hoe je deze versie beheer kunt bekijken en gebruiken."
   ]
  },
  {
   "cell_type": "markdown",
   "metadata": {
    "slideshow": {
     "slide_type": "slide"
    }
   },
   "source": [
    "### Opdracht\n",
    "* Zorg ervoor dat je genoeg aanpassingen hebt gemaakt in bestanden. Heb je er pas een of twee gemaakt? Maak er dan nog een paar bij.\n",
    "* Bekijk het bestand voordat je begonnen bent met aanpassingen maken. *Is dit het bestand waarmee je begon?*\n",
    "* Bekijk meerdere oudere versies van je bestanden. *Wat is de beste aanpak hiervoor?*\n",
    "\n",
    "**Wanneer je graag terug wil naar een eerdere versie van je bestand kan je gebruik maken van de zogenoemde checkouts. Dit kan door ```git checkout <commit> <file>```, waar < commit> het nummer van de commit is en < file> de file die je wilt vervangen voor een oudere versie. **\n",
    "\n",
    "\n",
    "### Dezelfde aangepaste bestanden\n",
    "\n",
    "Als je met een groep werkt, kan het weleens voorkomen dat je tegelijk in hetzelfde bestand gaat werken. Dit kan het geval zijn als de taakverdeling onduidelijk was of als je beide tegelijk iets moet veranderen. Zodra je het dus dan beide naar de server pusht, zal er dus iets moeten gebeuren om het samen te kunnen voegen. Gelukkig doet Git dit in de meeste gevallen zelf. Maar wat als dat niet lukt? *Dit is hierboven ook al als oplossing gegeven.*\n",
    "\n",
    "### Opdracht\n",
    "Kies nu iemand om mee samen te werken. Groepen moeten bestaan uit minstens twee en maximaal vier personen. Zorg ervoor dat jullie een gezamelijke map maken op GitHub, waarbij iedereen rechten heeft om te pushen naar de map. In deze map gaan jullie werken, dus zorg ervoor dat iedereen de informatie krijgt om dit ook te kunnen clonen. \n",
    "\n",
    "Voer vervolgens de volgende punten uit:\n",
    "* Laat ieder een of meerdere bestanden aanmaken en zorg ervoor dat dit terecht komt op de gezamelijke server. \n",
    "* Zorg er vervolgens voor dat iedereen de meest up-to-date versie heeft. \n",
    "* Probeer nu tegelijk in hetzelfde bestand te werken.\n",
    "* Als iedereen aanpassingen heeft gemaakt, zorg ervoor dat dit weer terecht komt op de gezamelijke server. *Gaat er iets mis? Probeer dan de gegeven oplossing te gebruiken.*\n",
    "\n",
    "*Hint: Als je niet weet wat je zou moeten doen voor de gegeven oplossing, kijk naar de volgende slide.*\n",
    "\n",
    "#### Als je ooit tegen hele grote problemen aanloopt en je geen weg terug ziet, is er altijd nog een oplossing. Maak een kopie van je bestanden en reset het. Dan kun je met je kopie verder. Dit is alleen nodig als er heel veel conflicten zijn, dus beschouw dit als een last resort. \n",
    "\n",
    "#### In sommige gevallen kun je er dan ook voor kiezen om deze problemen te vermijden. Dit kun je doet door bijvoorbeeld niet in hetzelfde bestand te werken. Dit zou een oplossing kunnen zijn, maar we raden het af als het nodig is om toch in hetzelfde bestand te werken. In de meeste gevallen komen deze problemen niet vaak voor en vooral niet als er in verschillende delen van het bestand wordt gewerkt. "
   ]
  },
  {
   "cell_type": "markdown",
   "metadata": {
    "slideshow": {
     "slide_type": "slide"
    }
   },
   "source": [
    "### Hint gegeven oplossing\n",
    "\n",
    "Op het moment dat er in dezelfde stukken verschillende veranderingen worden gemaakt, kan Git zelf niet zien welke verandering het moet gebruiken. Dit is een merge conflict. Dit zal de volgende soort verandering maken in je bestand maken: \n",
    "\n",
    "```\n",
    "the number of planets are\n",
    "<<<<<<< HEAD\n",
    "\n",
    "nine\n",
    "\n",
    "`==========`\n",
    "\n",
    "eight\n",
    "\n",
    "`>>>>>>>` branch-a\n",
    "```\n",
    "In dit voorbeeld zijn er twee veranderingen gemaakt. De ene persoon zegt dat er negen planeten zijn, terwijl de ander zegt dat het er acht zijn. Dan moet je handmatig ervoor kiezen wat je wilt en het ook handmatig veranderen. Hiervoor haal je het hele stuk wat erbij is gekomen weg:\n",
    "```\n",
    "<<<<<<< HEAD\n",
    "\n",
    "nine\n",
    "\n",
    "`==========`\n",
    "\n",
    "eight\n",
    "\n",
    "`>>>>>>>` branch-a\n",
    "```\n",
    "en vervang je dit met het woord wat je daar wil neerzetten. Bij veel van dit soort conflicten zal het dus zo zijn dat het erg veel handmatig veranderen is, wat ook een kleine nadeel hiervan is.\n"
   ]
  },
  {
   "cell_type": "markdown",
   "metadata": {
    "slideshow": {
     "slide_type": "slide"
    }
   },
   "source": [
    "## Huiswerk\n",
    "\n",
    "Doe de git tutorial   op CodeAcademy: <https://www.codecademy.com/courses/learn-git>\n",
    "\n",
    "### Meer tutorials\n",
    "* <https://www.atlassian.com/git/tutorials>\n",
    "* <https://try.github.io/levels/1/challenges/1> \n",
    "\n",
    "### Overzicht git commandos /cheatsheet\n",
    "* <https://confluence.atlassian.com/bitbucketserver/basic-git-commands-776639767.html>\n",
    "* <https://training.github.com/kit/downloads/github-git-cheat-sheet.pdf>"
   ]
  },
  {
   "cell_type": "markdown",
   "metadata": {
    "slideshow": {
     "slide_type": "slide"
    }
   },
   "source": [
    "## Handige links\n",
    "\n",
    "Basic git commands: \n",
    "<https://confluence.atlassian.com/bitbucketserver/basic-git-commands-776639767.html>"
   ]
  },
  {
   "cell_type": "code",
   "execution_count": null,
   "metadata": {
    "collapsed": true
   },
   "outputs": [],
   "source": []
  }
 ],
 "metadata": {
  "celltoolbar": "Slideshow",
  "kernelspec": {
   "display_name": "Python 2",
   "language": "python",
   "name": "python2"
  },
  "language_info": {
   "codemirror_mode": {
    "name": "ipython",
    "version": 2
   },
   "file_extension": ".py",
   "mimetype": "text/x-python",
   "name": "python",
   "nbconvert_exporter": "python",
   "pygments_lexer": "ipython2",
   "version": "2.7.8"
  }
 },
 "nbformat": 4,
 "nbformat_minor": 0
}
