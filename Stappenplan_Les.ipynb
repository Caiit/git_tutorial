{
 "cells": [
  {
   "cell_type": "markdown",
   "metadata": {},
   "source": [
    "# Stappen plan\n",
    "\n",
    "* Hieronder volgen de stappen die we moeten nemen in de les\n",
    "\n",
    "1. Korte uitleg wat Git is: working area, staging area, repository\n",
    "2. Download zip file met jullie repo erin. Unzip die.\n",
    "3. Installeer git software lokaal.\n",
    "4. Maak een git repository\n",
    "    1. Ga naar de directory met jullie spullen uit de zip file\n",
    "    2. Doe `git init`\n",
    "4. Meld je aan op github.\n",
    "5. Maak een nieuwe repository op github\n",
    "    1. Druk op plusje\n",
    "    2. Noem de repo `MyFirstRepo`\n",
    "    3. Volg dan de stappen bescheven onder **…or push an existing repository from the command line**\n",
    "    4. Dus ga weer naar je folder in je terminal en geef daar de twee commandos die je daar vond\n",
    "    \n",
    "### En nu?\n",
    "\n",
    "* Nu hebben ze lokaal een repo met jullie files erin. \n",
    "* Doe nu 1 typische drill.\n",
    "    * edit iets en save\n",
    "    * status\n",
    "    * add\n",
    "    * status\n",
    "    * commit\n",
    "    * push\n",
    "    * status\n",
    "    * log\n",
    "    * diff\n",
    "    \n",
    "###   clone en merge\n",
    "\n",
    "* Hiervoor werk je samen met je buur.\n",
    "* Jullie gaan samen in de repo van 1 van jullie tweeen werken, we noemen die X.\n",
    "\n",
    "1. Ga naar een nieuwe folder \n",
    "2. Clone allebei de `MyFirstRepo` van X in je nieuwe folder.\n",
    "3. git status\n",
    "4. **maak allebei een verandering in dezelfde file** VERZINNEN JULLIE HIER IETS DE 1 DOET DIT, DE ANDER DAT\n",
    "5. doe allebei de drill van eerder\n",
    "6. doe nu een pull\n",
    "7. Los het probleem samen op in een editor: maak de weer een mooie versie van die file. \n",
    "    * Zorg dat alle tekst die GIT erin heeft gezet er weer uit is.\n",
    "8. git add, commit and push"
   ]
  }
 ],
 "metadata": {
  "kernelspec": {
   "display_name": "Python 2",
   "language": "python",
   "name": "python2"
  },
  "language_info": {
   "codemirror_mode": {
    "name": "ipython",
    "version": 2
   },
   "file_extension": ".py",
   "mimetype": "text/x-python",
   "name": "python",
   "nbconvert_exporter": "python",
   "pygments_lexer": "ipython2",
   "version": "2.7.10"
  }
 },
 "nbformat": 4,
 "nbformat_minor": 0
}
