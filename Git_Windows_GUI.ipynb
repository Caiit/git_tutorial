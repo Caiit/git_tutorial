{
 "cells": [
  {
   "cell_type": "markdown",
   "metadata": {},
   "source": [
    "## Windows Git Gui\n",
    "\n",
    "Het beginvenster geeft je de mogelijkheid om in een bestaande map, in een nieuwe map of in een map die je gaat clonen te werken. Begin in een nieuwe map om de interface te zien. \n",
    "\n",
    "Vervolgens komt de GUI tevoorschijn, waar je een heleboel knoppen (commando's) zult zien. Eerst is het nodig om Git te configuren. Dit doe je door naar edit -> options te gaan. Bij USER_NAME en YOUR_EMAIL moet je je gegevens dan invullen. Het is het handigst om dit bij _for global_ te doen, zodat je dit niet afzonderlijk voor iedere map hoeft te doen.\n",
    "\n",
    "## Commando's\n",
    "\n",
    "#### Een lokale repository maken\n",
    "Bij het openen van je Git GUI kun je ervoor kiezen om een nieuwe repository te maken: *Create New Repository.* Hiermee maak je een nieuwe Git repository aan. \n",
    "\n",
    "Als je in een bestaande map wilt werken, kun je kiezen voor *Open Existing Repository.* Dan wordt Git geinitialiseerd in je bestaande map. \n",
    "\n",
    "#### Clone\n",
    "Voor het clonen van een bestaande repository kies je ook wederom bij het openen van je Git GUI: *Clone Existing Repository.*\n",
    "\n",
    "Kopieer de link van de server waar je van wilt clonen en zet dit bij Source Location. Voor de Target Directory moet je dan een naam kiezen voor een map **die nog niet bestaat**.\n",
    "\n",
    "#### Pull\n",
    "Aanpassingen van de repository lokaal ook aanpassen. Dit betekent dat je de meest up to date versie van de server haalt. Hiervoor moet je eerst: *Remote -> fetch from -> origin* doen. Dit haalt de aanpassingen op. Vervolgens merge je die aanpassingen met je bestaande files door: *Merge -> Local Merge* en kies dan tracking branch. \n",
    "\n",
    "#### Bestanden toevoegen aan de Staging Area\n",
    "Gebruik *Rescan* (knop naast de Commit Message) om de GUI te vernieuwen. Hier zul je informatie zien wat er is veranderd en in welk bestand. Om die bestanden toe te voegen, klik je *Stage Changed* (onder Rescan) aan.\n",
    "\n",
    "#### Van Staging Area naar repository\n",
    "Kies een bericht die je bij het commiten wilt toevoegen en zet dit in het grote vak onder *Commit Message*. Klik hierna op *commit* (links van het grote vlak) en dan zit het in de repository. \n",
    "\n",
    "#### Push naar de server\n",
    "Om de bestanden die zijn geupdated weer op de server te krijgen, moet het gepusht worden naar de server. Dit kan met de knop *Push*. Dan push je het naar de origin. Hierna worden informatiegegevens gevraagd voor Github, omdat je dan daarnaar pusht. Bij de juiste gegevens, staan je aanpassingen op de server. \n",
    "\n",
    "#### Status \n",
    "Tijdens het proces zal er in het linkerdeel van de GUI informatie staan over wat je aan het doen bent. Dit is leeg als alles is geupdated of als er niks is gedaan. Zo kun je precies zien in welk deel van het proces je zit.  \n",
    "\n",
    "#### Log\n",
    "Om te bekijken wat er allemaal is gebeurd in de repository moet je naar *Repository -> Visualize master's History*. Dit kan er erg intimiderend uitzien, maar is toch erg gemakkelijk uit te lezen. \n",
    "\n",
    "**Wat ook erg handig is dat deze commando's ook sneltoetsen hebben. Hierdoor kun je dus bij vaker gebruik, de commando's sneller gebruiken.**\n",
    "\n",
    "\n",
    "#### Windows\n",
    "Eerst ga je de bestaande git map kopieren. Kies bij het openen van je Git GUI: *Clone Existing Repository.*\n",
    "\n",
    "Zet dit bij Source Location: `https://github.com/Caiit/git_tutorial.git` Dit is waar de huidige map staat. Voor de Target Directory moet je dan een naam kiezen voor een map **die nog niet bestaat** en wat je als naam wil voor je map.\n",
    "\n"
   ]
  }
 ],
 "metadata": {
  "kernelspec": {
   "display_name": "Python 2",
   "language": "python",
   "name": "python2"
  },
  "language_info": {
   "codemirror_mode": {
    "name": "ipython",
    "version": 2
   },
   "file_extension": ".py",
   "mimetype": "text/x-python",
   "name": "python",
   "nbconvert_exporter": "python",
   "pygments_lexer": "ipython2",
   "version": "2.7.8"
  }
 },
 "nbformat": 4,
 "nbformat_minor": 0
}
